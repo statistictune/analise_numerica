{
 "cells": [
  {
   "cell_type": "code",
   "execution_count": 40,
   "metadata": {},
   "outputs": [
    {
     "name": "stdout",
     "output_type": "stream",
     "text": [
      "Condição de uso no algoritmo satisfeita\n",
      "Interação | x | f(x) | a | b | b - a\n",
      " 1 | 0.5 | -1.375 |  0 | 0.5 |0.5\n",
      " 2 | 0.25 | 0.765625 |  0.25 | 0.5 |0.25\n",
      " 3 | 0.375 | -0.322265625 |  0.25 | 0.375 |0.125\n",
      " 4 | 0.3125 | 0.218017578125 |  0.3125 | 0.375 |0.0625\n",
      " 5 | 0.34375 | -0.053131103515625 |  0.3125 | 0.34375 |0.03125\n",
      " 6 | 0.328125 | 0.08220291137695312 |  0.328125 | 0.34375 |0.015625\n",
      " 7 | 0.3359375 | 0.01447439193725586 |  0.3359375 | 0.34375 |0.0078125\n",
      " 8 | 0.33984375 | -0.019343912601470947 |  0.3359375 | 0.33984375 |0.00390625\n",
      " 9 | 0.337890625 | -0.0024386271834373474 |  0.3359375 | 0.337890625 |0.001953125\n",
      " 10 | 0.3369140625 | 0.006016918458044529 |  0.3369140625 | 0.337890625 |0.0009765625\n",
      "Interações atingidas\n",
      "Para o valor final de x = 0.33708608060513795  => f(x) = 0.004527363310510069\n"
     ]
    }
   ],
   "source": [
    "import math as m\n",
    "import numpy as np\n",
    "\n",
    "## Descrição da Função\n",
    "\n",
    "def f(x):\n",
    "    return pow(x, 3) -9*x + 3\n",
    "\n",
    "\n",
    "is_ok = False\n",
    "\n",
    "while not is_ok:\n",
    "\n",
    "    a = 0 #float(input('Informe o valor de a: '))\n",
    "    b = 1 #float(input('Informe o valor de b: '))\n",
    "    e = 1e-3 #float(input('Informe o valor de erro admitido (1e-4): '))\n",
    "\n",
    "\n",
    "    if f(a)*f(b) < 0:\n",
    "        is_ok = True\n",
    "        print(\"Condição de uso no algoritmo satisfeita\")\n",
    "    else:\n",
    "        print(\"Informa valores para 'a' e 'b' de modo que f(a)*f(b) < 0\")\n",
    "\n",
    "\n",
    "k_max = m.ceil((m.log(b - a) - m.log(e))/m.log(2) - 1)\n",
    "\n",
    "k = 1\n",
    "\n",
    "if k_max <= 1:\n",
    "    print('Erro admitido atingido')\n",
    "    x = np.random.uniform(a, b)\n",
    "    exit()\n",
    "\n",
    "print('Interação | x | f(x) | a | b | b - a')\n",
    "\n",
    "while k <= k_max + 1:\n",
    "    \n",
    "    M = f(a)\n",
    "\n",
    "    x = (a + b)/2\n",
    "\n",
    "\n",
    "    if M*f(x) > 0:\n",
    "        a = x\n",
    "    else:\n",
    "        b = x\n",
    "\n",
    "    print(f' {k} | {x} | {f(x)} |  {a} | {b} |{b - a}')\n",
    "    k = k+1\n",
    "\n",
    "print('Interações atingidas')\n",
    "\n",
    "x = np.random.uniform(a, b)\n",
    "print(f'Para o valor final de x = {x}  => f(x) = {f(x)}')"
   ]
  }
 ],
 "metadata": {
  "kernelspec": {
   "display_name": "Python 3",
   "language": "python",
   "name": "python3"
  },
  "language_info": {
   "codemirror_mode": {
    "name": "ipython",
    "version": 3
   },
   "file_extension": ".py",
   "mimetype": "text/x-python",
   "name": "python",
   "nbconvert_exporter": "python",
   "pygments_lexer": "ipython3",
   "version": "3.11.9"
  }
 },
 "nbformat": 4,
 "nbformat_minor": 2
}
